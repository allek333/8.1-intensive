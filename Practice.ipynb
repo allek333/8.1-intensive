{
 "cells": [
  {
   "cell_type": "code",
   "execution_count": 12,
   "metadata": {},
   "outputs": [],
   "source": [
    "import warnings\n",
    "warnings.filterwarnings('ignore')\n",
    "\n",
    "import numpy as np"
   ]
  },
  {
   "cell_type": "markdown",
   "metadata": {
    "id": "70c4eea6"
   },
   "source": [
    "### Задача 1.\n",
    "Предположим, мы хотим найти вероятность того, что на игральной кости при броске выпадет значение больше 4."
   ]
  },
  {
   "cell_type": "markdown",
   "metadata": {
    "id": "46458864"
   },
   "source": [
    "Здесь будет классическое нахождение вероятности"
   ]
  },
  {
   "cell_type": "code",
   "execution_count": 13,
   "metadata": {},
   "outputs": [],
   "source": [
    "A = 2\n",
    "Z = 6"
   ]
  },
  {
   "cell_type": "code",
   "execution_count": 14,
   "metadata": {},
   "outputs": [
    {
     "name": "stdout",
     "output_type": "stream",
     "text": [
      "0.3333333333333333\n"
     ]
    }
   ],
   "source": [
    "Possib = A/Z\n",
    "print(Possib)"
   ]
  },
  {
   "cell_type": "markdown",
   "metadata": {
    "id": "4f48137e"
   },
   "source": [
    "### Задача 2.  \n",
    "Написать функцию для вычисления факториала и рассчитать число сочетаний из 6 по 2."
   ]
  },
  {
   "cell_type": "code",
   "execution_count": 15,
   "metadata": {
    "id": "00b864a2"
   },
   "outputs": [],
   "source": [
    "def fact(x):\n",
    "    if (x <= 0):\n",
    "        raise ValueError(\"введите число больше 0\")\n",
    "    func = 1\n",
    "    for el in range(2, x+1):\n",
    "        func *= el\n",
    "    return func"
   ]
  },
  {
   "cell_type": "code",
   "execution_count": 16,
   "metadata": {
    "id": "d0c90fd6"
   },
   "outputs": [
    {
     "data": {
      "text/plain": [
       "720"
      ]
     },
     "execution_count": 16,
     "metadata": {},
     "output_type": "execute_result"
    }
   ],
   "source": [
    "# проверка результата:\n",
    "fact(6)"
   ]
  },
  {
   "cell_type": "markdown",
   "metadata": {},
   "source": [
    "Далее напишем формулу для сочетаний (combinations). В матформе будет С(n, k)=n!/(k!(n-k)!)"
   ]
  },
  {
   "cell_type": "code",
   "execution_count": 17,
   "metadata": {},
   "outputs": [],
   "source": [
    "def comb(n, k):\n",
    "    return int(fact(n)/(fact(k)*fact(n-k)))"
   ]
  },
  {
   "cell_type": "code",
   "execution_count": 18,
   "metadata": {
    "id": "818dbe13"
   },
   "outputs": [
    {
     "data": {
      "text/plain": [
       "15"
      ]
     },
     "execution_count": 18,
     "metadata": {},
     "output_type": "execute_result"
    }
   ],
   "source": [
    "# проверка результата:\n",
    "comb(6, 2)"
   ]
  },
  {
   "cell_type": "markdown",
   "metadata": {
    "id": "710a7b51"
   },
   "source": [
    "Задача 3. Из 30 стрелков 12 попадает в цель с вероятностью 0,6, 8 стрелков — с вероятностью 0,5, а 10 — с вероятностью 0,7. Наудачу выбранный стрелок произвёл выстрел, поразив цель.\n",
    "К какой из групп, вероятнее всего, принадлежал этот стрелок?"
   ]
  },
  {
   "cell_type": "markdown",
   "metadata": {},
   "source": [
    "Решать задачу надо по фрмуле Байеса. P(A|B) = P(B|A) * P(A) / P(B)\n",
    "P(A|B) - вероятность события А при наступлении Б"
   ]
  },
  {
   "cell_type": "markdown",
   "metadata": {},
   "source": [
    "В решении этой задачи знаменатель будет везде одинаковый. Отличаться будет числитель. Выпишем их отдельно и вручную сравним ответы вероятностей."
   ]
  },
  {
   "cell_type": "code",
   "execution_count": 19,
   "metadata": {
    "id": "bf853584"
   },
   "outputs": [],
   "source": [
    "def byas(A, BfromA):\n",
    "    B = 0.6*12/30+0.5*8/30+0.7*10/30\n",
    "    return BfromA*A/B"
   ]
  },
  {
   "cell_type": "code",
   "execution_count": 20,
   "metadata": {},
   "outputs": [
    {
     "name": "stdout",
     "output_type": "stream",
     "text": [
      "0.3956043956043956\n",
      "0.21978021978021978\n",
      "0.3846153846153846\n"
     ]
    }
   ],
   "source": [
    "print(byas(0.6, 12/30))\n",
    "print(byas(0.5, 8/30))\n",
    "print(byas(0.7, 10/30))"
   ]
  },
  {
   "cell_type": "markdown",
   "metadata": {},
   "source": [
    "Проверим результат, в сумме должна быть единица:"
   ]
  },
  {
   "cell_type": "code",
   "execution_count": 21,
   "metadata": {},
   "outputs": [
    {
     "data": {
      "text/plain": [
       "1.0"
      ]
     },
     "execution_count": 21,
     "metadata": {},
     "output_type": "execute_result"
    }
   ],
   "source": [
    "np.sum([0.4, 0.22, 0.38])"
   ]
  },
  {
   "cell_type": "markdown",
   "metadata": {},
   "source": [
    "Наиболее вероятно стрелял спортсмен из первой команды"
   ]
  },
  {
   "cell_type": "markdown",
   "metadata": {
    "id": "8091fdd1"
   },
   "source": [
    "### Задача 4. \n",
    "Сгенерировать выборку реализаций случайной величины (кроме распределения Коши).\n",
    "Любимое распределение можно выбрать на этом [сайте](https://docs.scipy.org/doc/scipy/reference/stats.html).\n",
    "Проверить ЦПТ для различных n."
   ]
  },
  {
   "cell_type": "code",
   "execution_count": 22,
   "metadata": {
    "id": "8bc6a63d"
   },
   "outputs": [],
   "source": [
    "from scipy.stats import expon"
   ]
  },
  {
   "cell_type": "code",
   "execution_count": 23,
   "metadata": {
    "id": "79d45f60"
   },
   "outputs": [],
   "source": [
    "import seaborn as sns"
   ]
  },
  {
   "cell_type": "code",
   "execution_count": 24,
   "metadata": {
    "id": "01831c54"
   },
   "outputs": [
    {
     "ename": "NameError",
     "evalue": "name 'r' is not defined",
     "output_type": "error",
     "traceback": [
      "\u001b[1;31m---------------------------------------------------------------------------\u001b[0m",
      "\u001b[1;31mNameError\u001b[0m                                 Traceback (most recent call last)",
      "\u001b[1;32m<ipython-input-24-10773371417b>\u001b[0m in \u001b[0;36m<module>\u001b[1;34m\u001b[0m\n\u001b[1;32m----> 1\u001b[1;33m \u001b[0msns\u001b[0m\u001b[1;33m.\u001b[0m\u001b[0mdistplot\u001b[0m\u001b[1;33m(\u001b[0m\u001b[0mr\u001b[0m\u001b[1;33m)\u001b[0m\u001b[1;33m\u001b[0m\u001b[1;33m\u001b[0m\u001b[0m\n\u001b[0m",
      "\u001b[1;31mNameError\u001b[0m: name 'r' is not defined"
     ]
    }
   ],
   "source": [
    "sns.distplot(r)"
   ]
  },
  {
   "cell_type": "code",
   "execution_count": null,
   "metadata": {
    "id": "db4dcded"
   },
   "outputs": [],
   "source": [
    "from scipy import stats"
   ]
  },
  {
   "cell_type": "code",
   "execution_count": null,
   "metadata": {
    "id": "33535a16"
   },
   "outputs": [],
   "source": [
    "import numpy as np"
   ]
  },
  {
   "cell_type": "code",
   "execution_count": null,
   "metadata": {
    "id": "a8ea54c7"
   },
   "outputs": [],
   "source": [
    "a1=[]\n",
    "for _ in range(10):\n",
    "    a1.append(expon.rvs(size=100).mean())"
   ]
  },
  {
   "cell_type": "code",
   "execution_count": null,
   "metadata": {
    "id": "b42e5927"
   },
   "outputs": [],
   "source": [
    "sns.distplot(a1)"
   ]
  },
  {
   "cell_type": "code",
   "execution_count": null,
   "metadata": {
    "id": "61a8bb90"
   },
   "outputs": [],
   "source": [
    "stats.anderson(a1)"
   ]
  },
  {
   "cell_type": "markdown",
   "metadata": {
    "id": "966dc077"
   },
   "source": [
    "Задача 5. Попробовать применить ЦПТ к распределению Коши."
   ]
  },
  {
   "cell_type": "code",
   "execution_count": null,
   "metadata": {
    "id": "a2bcd5bf"
   },
   "outputs": [],
   "source": [
    "from scipy.stats import cauchy"
   ]
  },
  {
   "cell_type": "code",
   "execution_count": null,
   "metadata": {
    "id": "ee5c8e76"
   },
   "outputs": [],
   "source": [
    "a6=[]\n",
    "for _ in range(100000):\n",
    "    a6.append(cauchy.rvs(size=1000).mean())"
   ]
  },
  {
   "cell_type": "code",
   "execution_count": null,
   "metadata": {
    "id": "56988472"
   },
   "outputs": [],
   "source": [
    "sns.distplot(np.array(a6))"
   ]
  },
  {
   "cell_type": "code",
   "execution_count": null,
   "metadata": {
    "id": "eb52f970"
   },
   "outputs": [],
   "source": [
    "stats.anderson(np.array(a6))"
   ]
  },
  {
   "cell_type": "markdown",
   "metadata": {
    "id": "c5d9ce87"
   },
   "source": [
    "Задача 6. Посчитать основные характеристики выборки."
   ]
  },
  {
   "cell_type": "code",
   "execution_count": null,
   "metadata": {
    "id": "d0a1b5cb"
   },
   "outputs": [],
   "source": [
    "a5rr=np.array(a5)"
   ]
  },
  {
   "cell_type": "code",
   "execution_count": null,
   "metadata": {
    "id": "f510acaf"
   },
   "outputs": [],
   "source": [
    "np.min(a5rr), np.max(a5rr), np.mean(a5rr), np.std(a5rr)"
   ]
  },
  {
   "cell_type": "markdown",
   "metadata": {
    "id": "12d2c149"
   },
   "source": [
    "Задача 7. Посчитать коэффициент корреляции для двух векторов."
   ]
  },
  {
   "cell_type": "code",
   "execution_count": null,
   "metadata": {
    "id": "539da35b"
   },
   "outputs": [],
   "source": [
    "a6rr=np.array(a6)"
   ]
  },
  {
   "cell_type": "code",
   "execution_count": null,
   "metadata": {
    "id": "b2f3738a"
   },
   "outputs": [],
   "source": [
    "len(a5), len(a6)"
   ]
  },
  {
   "cell_type": "code",
   "execution_count": null,
   "metadata": {
    "id": "9bd26c09"
   },
   "outputs": [],
   "source": [
    "np.corrcoef(a5rr, a6rr)"
   ]
  },
  {
   "cell_type": "code",
   "execution_count": null,
   "metadata": {
    "id": "99b9bf3c"
   },
   "outputs": [],
   "source": []
  }
 ],
 "metadata": {
  "colab": {
   "provenance": []
  },
  "kernelspec": {
   "display_name": "Python 3",
   "language": "python",
   "name": "python3"
  },
  "language_info": {
   "codemirror_mode": {
    "name": "ipython",
    "version": 3
   },
   "file_extension": ".py",
   "mimetype": "text/x-python",
   "name": "python",
   "nbconvert_exporter": "python",
   "pygments_lexer": "ipython3",
   "version": "3.8.3"
  }
 },
 "nbformat": 4,
 "nbformat_minor": 5
}
